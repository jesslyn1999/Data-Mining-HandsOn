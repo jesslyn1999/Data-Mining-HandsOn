{
 "cells": [
  {
   "cell_type": "markdown",
   "metadata": {},
   "source": [
    "# Welcome to Week 01 Handson\n",
    "This week handson is a super easy one that is around setting up the basic needed environment for doing the handson lecture, and playing a litle about data exploration. In your machine, you need to setup a python interpreter and pandas library. For completing each milestone, you may use any additional library you want."
   ]
  },
  {
   "cell_type": "markdown",
   "metadata": {},
   "source": [
    "### Read dataset \"flights.csv\""
   ]
  },
  {
   "cell_type": "code",
   "execution_count": 14,
   "metadata": {},
   "outputs": [
    {
     "data": {
      "text/html": [
       "<div>\n",
       "<style scoped>\n",
       "    .dataframe tbody tr th:only-of-type {\n",
       "        vertical-align: middle;\n",
       "    }\n",
       "\n",
       "    .dataframe tbody tr th {\n",
       "        vertical-align: top;\n",
       "    }\n",
       "\n",
       "    .dataframe thead th {\n",
       "        text-align: right;\n",
       "    }\n",
       "</style>\n",
       "<table border=\"1\" class=\"dataframe\">\n",
       "  <thead>\n",
       "    <tr style=\"text-align: right;\">\n",
       "      <th></th>\n",
       "      <th>DayofMonth</th>\n",
       "      <th>DayOfWeek</th>\n",
       "      <th>Carrier</th>\n",
       "      <th>OriginAirportID</th>\n",
       "      <th>DestAirportID</th>\n",
       "      <th>DepDelay</th>\n",
       "      <th>ArrDelay</th>\n",
       "    </tr>\n",
       "  </thead>\n",
       "  <tbody>\n",
       "    <tr>\n",
       "      <th>0</th>\n",
       "      <td>19</td>\n",
       "      <td>5</td>\n",
       "      <td>DL</td>\n",
       "      <td>11433</td>\n",
       "      <td>13303</td>\n",
       "      <td>-3</td>\n",
       "      <td>1</td>\n",
       "    </tr>\n",
       "    <tr>\n",
       "      <th>1</th>\n",
       "      <td>19</td>\n",
       "      <td>5</td>\n",
       "      <td>DL</td>\n",
       "      <td>14869</td>\n",
       "      <td>12478</td>\n",
       "      <td>0</td>\n",
       "      <td>-8</td>\n",
       "    </tr>\n",
       "    <tr>\n",
       "      <th>2</th>\n",
       "      <td>19</td>\n",
       "      <td>5</td>\n",
       "      <td>DL</td>\n",
       "      <td>14057</td>\n",
       "      <td>14869</td>\n",
       "      <td>-4</td>\n",
       "      <td>-15</td>\n",
       "    </tr>\n",
       "    <tr>\n",
       "      <th>3</th>\n",
       "      <td>19</td>\n",
       "      <td>5</td>\n",
       "      <td>DL</td>\n",
       "      <td>15016</td>\n",
       "      <td>11433</td>\n",
       "      <td>28</td>\n",
       "      <td>24</td>\n",
       "    </tr>\n",
       "    <tr>\n",
       "      <th>4</th>\n",
       "      <td>19</td>\n",
       "      <td>5</td>\n",
       "      <td>DL</td>\n",
       "      <td>11193</td>\n",
       "      <td>12892</td>\n",
       "      <td>-6</td>\n",
       "      <td>-11</td>\n",
       "    </tr>\n",
       "  </tbody>\n",
       "</table>\n",
       "</div>"
      ],
      "text/plain": [
       "   DayofMonth  DayOfWeek Carrier  OriginAirportID  DestAirportID  DepDelay  \\\n",
       "0          19          5      DL            11433          13303        -3   \n",
       "1          19          5      DL            14869          12478         0   \n",
       "2          19          5      DL            14057          14869        -4   \n",
       "3          19          5      DL            15016          11433        28   \n",
       "4          19          5      DL            11193          12892        -6   \n",
       "\n",
       "   ArrDelay  \n",
       "0         1  \n",
       "1        -8  \n",
       "2       -15  \n",
       "3        24  \n",
       "4       -11  "
      ]
     },
     "execution_count": 14,
     "metadata": {},
     "output_type": "execute_result"
    }
   ],
   "source": [
    "import pandas as pd # import pandas library\n",
    "import numpy as np\n",
    "import matplotlib.pyplot as plt\n",
    "\n",
    "pd.set_option('display.max_rows', 500)\n",
    "pd.set_option('display.max_columns', 100)\n",
    "\n",
    "# read csv file into 'df' dataframe\n",
    "df = pd.read_csv('flights.csv', sep = \",\")\n",
    "\n",
    "df.head()"
   ]
  },
  {
   "cell_type": "markdown",
   "metadata": {},
   "source": [
    "## Milestone 01 (M01)\n",
    "Take the unique values of ```OriginaAirportID``` and ```DestAirportID``` column data and save them into variables. For these both variables, please output: (i) several/sample values of them, and (ii) the number of their unique values. "
   ]
  },
  {
   "cell_type": "code",
   "execution_count": 3,
   "metadata": {},
   "outputs": [
    {
     "name": "stdout",
     "output_type": "stream",
     "text": [
      "len unique OriginaAirportID and DestAirportID: 70, 70\n"
     ]
    }
   ],
   "source": [
    "# write your own code for M01 here\n",
    "print(\"len unique OriginaAirportID and DestAirportID: {}, {}\". format(len(df.OriginAirportID.unique()), len(df.DestAirportID.unique())))"
   ]
  },
  {
   "cell_type": "code",
   "execution_count": 4,
   "metadata": {},
   "outputs": [
    {
     "data": {
      "text/plain": [
       "array([11433, 14869, 14057, 15016, 11193, 10397, 11278, 14107, 11298,\n",
       "       12451, 12953, 13204, 13487, 12889, 14027, 13244, 14747, 10423,\n",
       "       11292, 12892, 13198, 11057, 14100, 12478, 11697, 12339, 12266,\n",
       "       15304, 14635, 13930, 14679, 10721, 10821, 11066, 13495, 10140,\n",
       "       10792, 14492, 11618, 14771, 12173, 14908, 13342, 14730, 14122,\n",
       "       10693, 13303, 14893, 14524, 14843, 15376, 13232, 14683, 13871,\n",
       "       11042, 14570, 12264, 13830, 13931, 10299, 14307, 10529, 14831,\n",
       "       12191, 13796, 13851, 12954, 11259, 10800, 13891], dtype=int64)"
      ]
     },
     "execution_count": 4,
     "metadata": {},
     "output_type": "execute_result"
    }
   ],
   "source": [
    "df.OriginAirportID.unique()"
   ]
  },
  {
   "cell_type": "code",
   "execution_count": 5,
   "metadata": {},
   "outputs": [
    {
     "data": {
      "text/plain": [
       "array([13303, 12478, 14869, 11433, 12892, 15016, 10397, 10423, 13487,\n",
       "       11298, 12451, 12953, 14771, 12889, 14027, 11697, 14747, 14893,\n",
       "       14908, 15304, 11193, 11278, 13198, 14100, 14683, 10693, 14635,\n",
       "       10721, 14057, 14107, 10821, 13931, 11057, 11292, 13495, 13244,\n",
       "       10140, 10792, 15376, 11066, 13204, 12173, 11618, 12266, 13342,\n",
       "       14679, 14831, 12339, 14122, 11042, 10299, 14492, 14524, 14843,\n",
       "       10529, 13232, 14307, 14730, 13930, 13871, 14570, 12264, 12191,\n",
       "       13796, 13830, 13851, 12954, 11259, 10800, 13891], dtype=int64)"
      ]
     },
     "execution_count": 5,
     "metadata": {},
     "output_type": "execute_result"
    }
   ],
   "source": [
    "df.DestAirportID.unique()"
   ]
  },
  {
   "cell_type": "markdown",
   "metadata": {},
   "source": [
    "## M02\n",
    "Discretize ```DepDelay``` and ```ArrDelay``` column data into several ranges of values (any number you think good), and plot the histogram of the both."
   ]
  },
  {
   "cell_type": "code",
   "execution_count": 6,
   "metadata": {},
   "outputs": [
    {
     "data": {
      "text/plain": [
       "<AxesSubplot:ylabel='Frequency'>"
      ]
     },
     "execution_count": 6,
     "metadata": {},
     "output_type": "execute_result"
    },
    {
     "data": {
      "image/png": "[encoded data removed]",
      "text/plain": [
       "<Figure size 432x288 with 1 Axes>"
      ]
     },
     "metadata": {
      "needs_background": "light"
     },
     "output_type": "display_data"
    }
   ],
   "source": [
    "# col_range_arrDelay = pd.cut(df.ArrDelay, bins=10)\n",
    "# results_table = pd.DataFrame(zip(df.ArrDelay, col_range_arrDelay),\n",
    "#                             columns=['arrDelay', 'range'])\n",
    "# group_range_table = results_table.groupby('range').count()\n",
    "df.ArrDelay.plot.hist(bins=10)"
   ]
  },
  {
   "cell_type": "code",
   "execution_count": 7,
   "metadata": {},
   "outputs": [
    {
     "data": {
      "text/plain": [
       "<AxesSubplot:ylabel='Frequency'>"
      ]
     },
     "execution_count": 7,
     "metadata": {},
     "output_type": "execute_result"
    },
    {
     "data": {
      "image/png": "[encoded data removed]",
      "text/plain": [
       "<Figure size 432x288 with 1 Axes>"
      ]
     },
     "metadata": {
      "needs_background": "light"
     },
     "output_type": "display_data"
    }
   ],
   "source": [
    "df.ArrDelay.plot.hist(bins=10)"
   ]
  },
  {
   "cell_type": "code",
   "execution_count": 8,
   "metadata": {},
   "outputs": [
    {
     "data": {
      "text/plain": [
       "(-95.939, 99.9]     2619425\n",
       "(99.9, 293.8]         78177\n",
       "(293.8, 487.7]         3827\n",
       "(487.7, 681.6]          446\n",
       "(681.6, 875.5]          186\n",
       "(875.5, 1069.4]          86\n",
       "(1069.4, 1263.3]         49\n",
       "(1263.3, 1457.2]         16\n",
       "(1457.2, 1651.1]          4\n",
       "(1651.1, 1845.0]          2\n",
       "Name: ArrDelay, dtype: int64"
      ]
     },
     "execution_count": 8,
     "metadata": {},
     "output_type": "execute_result"
    }
   ],
   "source": [
    "pd.cut(df.ArrDelay, bins=10).value_counts()"
   ]
  },
  {
   "cell_type": "code",
   "execution_count": 9,
   "metadata": {},
   "outputs": [
    {
     "data": {
      "text/plain": [
       "(-64.926, 129.6]    2653555\n",
       "(129.6, 322.2]        45437\n",
       "(322.2, 514.8]         2531\n",
       "(514.8, 707.4]          380\n",
       "(707.4, 900.0]          165\n",
       "(900.0, 1092.6]          84\n",
       "(1092.6, 1285.2]         46\n",
       "(1285.2, 1477.8]         14\n",
       "(1477.8, 1670.4]          4\n",
       "(1670.4, 1863.0]          2\n",
       "Name: DepDelay, dtype: int64"
      ]
     },
     "execution_count": 9,
     "metadata": {},
     "output_type": "execute_result"
    }
   ],
   "source": [
    "pd.cut(df.DepDelay, bins=10).value_counts()"
   ]
  },
  {
   "cell_type": "markdown",
   "metadata": {},
   "source": [
    "## M03\n",
    "Plot the original values of ```DepDelay``` and ```ArrDelay``` column data into box plots and please explain what you can interpret from them."
   ]
  },
  {
   "cell_type": "code",
   "execution_count": 10,
   "metadata": {},
   "outputs": [
    {
     "data": {
      "text/plain": [
       "<AxesSubplot:>"
      ]
     },
     "execution_count": 10,
     "metadata": {},
     "output_type": "execute_result"
    },
    {
     "data": {
      "image/png": "[encoded data removed]",
      "text/plain": [
       "<Figure size 432x288 with 1 Axes>"
      ]
     },
     "metadata": {
      "needs_background": "light"
     },
     "output_type": "display_data"
    }
   ],
   "source": [
    "# write your own code for M03 here\n",
    "df.DepDelay.plot.box(grid='True')"
   ]
  },
  {
   "cell_type": "code",
   "execution_count": 11,
   "metadata": {},
   "outputs": [
    {
     "data": {
      "text/plain": [
       "<AxesSubplot:>"
      ]
     },
     "execution_count": 11,
     "metadata": {},
     "output_type": "execute_result"
    },
    {
     "data": {
      "image/png": "[encoded data removed]",
      "text/plain": [
       "<Figure size 432x288 with 1 Axes>"
      ]
     },
     "metadata": {
      "needs_background": "light"
     },
     "output_type": "display_data"
    }
   ],
   "source": [
    "df.ArrDelay.plot.box(grid='True')"
   ]
  },
  {
   "cell_type": "markdown",
   "metadata": {},
   "source": [
    "Kolom `DepDelay` dan kolom `ArrDelay` memiliki pola distribusi yang mirip.Terdapat banyak titik di atas batas maksimum dan di bawah minimum, yang menunjukan banyak titik anomali dan sangat tidak tersebar merata."
   ]
  },
  {
   "cell_type": "markdown",
   "metadata": {},
   "source": [
    "## M04\n",
    "Before building a model, we can investigate the relation among the features (and also the output). We may later remove the higly correlated features (keep only one) and/or features having no correlation with the output. Thus, in this milestone, you are asked to plot correlation matrix (see [this example](https://miro.medium.com/max/1155/1*ObHerhSsFvFV6hLSgLMYHg.jpeg)). Please explain (in short) what you can interpret from the correlation matrix you create."
   ]
  },
  {
   "cell_type": "code",
   "execution_count": 16,
   "metadata": {},
   "outputs": [
    {
     "data": {
      "image/png": "[encoded data removed]",
      "text/plain": [
       "<Figure size 288x288 with 1 Axes>"
      ]
     },
     "metadata": {
      "needs_background": "light"
     },
     "output_type": "display_data"
    }
   ],
   "source": [
    "# write your own code for M04 here\n",
    "plt.matshow(df.corr())\n",
    "plt.show()"
   ]
  },
  {
   "cell_type": "code",
   "execution_count": 18,
   "metadata": {},
   "outputs": [
    {
     "data": {
      "text/html": [
       "<div>\n",
       "<style scoped>\n",
       "    .dataframe tbody tr th:only-of-type {\n",
       "        vertical-align: middle;\n",
       "    }\n",
       "\n",
       "    .dataframe tbody tr th {\n",
       "        vertical-align: top;\n",
       "    }\n",
       "\n",
       "    .dataframe thead th {\n",
       "        text-align: right;\n",
       "    }\n",
       "</style>\n",
       "<table border=\"1\" class=\"dataframe\">\n",
       "  <thead>\n",
       "    <tr style=\"text-align: right;\">\n",
       "      <th></th>\n",
       "      <th>DayofMonth</th>\n",
       "      <th>DayOfWeek</th>\n",
       "      <th>OriginAirportID</th>\n",
       "      <th>DestAirportID</th>\n",
       "      <th>DepDelay</th>\n",
       "      <th>ArrDelay</th>\n",
       "    </tr>\n",
       "  </thead>\n",
       "  <tbody>\n",
       "    <tr>\n",
       "      <th>DayofMonth</th>\n",
       "      <td>1.000000</td>\n",
       "      <td>0.023004</td>\n",
       "      <td>-0.000623</td>\n",
       "      <td>-0.000607</td>\n",
       "      <td>0.006390</td>\n",
       "      <td>0.008211</td>\n",
       "    </tr>\n",
       "    <tr>\n",
       "      <th>DayOfWeek</th>\n",
       "      <td>0.023004</td>\n",
       "      <td>1.000000</td>\n",
       "      <td>0.003375</td>\n",
       "      <td>0.003231</td>\n",
       "      <td>-0.005671</td>\n",
       "      <td>-0.012356</td>\n",
       "    </tr>\n",
       "    <tr>\n",
       "      <th>OriginAirportID</th>\n",
       "      <td>-0.000623</td>\n",
       "      <td>0.003375</td>\n",
       "      <td>1.000000</td>\n",
       "      <td>0.004527</td>\n",
       "      <td>-0.019013</td>\n",
       "      <td>-0.009965</td>\n",
       "    </tr>\n",
       "    <tr>\n",
       "      <th>DestAirportID</th>\n",
       "      <td>-0.000607</td>\n",
       "      <td>0.003231</td>\n",
       "      <td>0.004527</td>\n",
       "      <td>1.000000</td>\n",
       "      <td>0.005078</td>\n",
       "      <td>-0.004301</td>\n",
       "    </tr>\n",
       "    <tr>\n",
       "      <th>DepDelay</th>\n",
       "      <td>0.006390</td>\n",
       "      <td>-0.005671</td>\n",
       "      <td>-0.019013</td>\n",
       "      <td>0.005078</td>\n",
       "      <td>1.000000</td>\n",
       "      <td>0.939256</td>\n",
       "    </tr>\n",
       "    <tr>\n",
       "      <th>ArrDelay</th>\n",
       "      <td>0.008211</td>\n",
       "      <td>-0.012356</td>\n",
       "      <td>-0.009965</td>\n",
       "      <td>-0.004301</td>\n",
       "      <td>0.939256</td>\n",
       "      <td>1.000000</td>\n",
       "    </tr>\n",
       "  </tbody>\n",
       "</table>\n",
       "</div>"
      ],
      "text/plain": [
       "                 DayofMonth  DayOfWeek  OriginAirportID  DestAirportID  \\\n",
       "DayofMonth         1.000000   0.023004        -0.000623      -0.000607   \n",
       "DayOfWeek          0.023004   1.000000         0.003375       0.003231   \n",
       "OriginAirportID   -0.000623   0.003375         1.000000       0.004527   \n",
       "DestAirportID     -0.000607   0.003231         0.004527       1.000000   \n",
       "DepDelay           0.006390  -0.005671        -0.019013       0.005078   \n",
       "ArrDelay           0.008211  -0.012356        -0.009965      -0.004301   \n",
       "\n",
       "                 DepDelay  ArrDelay  \n",
       "DayofMonth       0.006390  0.008211  \n",
       "DayOfWeek       -0.005671 -0.012356  \n",
       "OriginAirportID -0.019013 -0.009965  \n",
       "DestAirportID    0.005078 -0.004301  \n",
       "DepDelay         1.000000  0.939256  \n",
       "ArrDelay         0.939256  1.000000  "
      ]
     },
     "execution_count": 18,
     "metadata": {},
     "output_type": "execute_result"
    }
   ],
   "source": [
    "df.corr()"
   ]
  },
  {
   "cell_type": "markdown",
   "metadata": {},
   "source": [
    "Kolom `ArrDelay` dan `DepDelay` mempunyai nilai korelasi yang tinggi, berarti mempunyai sifat simetri antara keduanya yang tinggi. "
   ]
  },
  {
   "cell_type": "markdown",
   "metadata": {},
   "source": [
    "# Submission\n",
    "Please submit this jupter notebook file to the course portal. Make sure the saved file has cell outputs for each milestone (not empty). "
   ]
  }
 ],
 "metadata": {
  "kernelspec": {
   "display_name": "global_venv",
   "language": "python",
   "name": "global_venv"
  },
  "language_info": {
   "codemirror_mode": {
    "name": "ipython",
    "version": 3
   },
   "file_extension": ".py",
   "mimetype": "text/x-python",
   "name": "python",
   "nbconvert_exporter": "python",
   "pygments_lexer": "ipython3",
   "version": "3.7.3"
  }
 },
 "nbformat": 4,
 "nbformat_minor": 2
}
